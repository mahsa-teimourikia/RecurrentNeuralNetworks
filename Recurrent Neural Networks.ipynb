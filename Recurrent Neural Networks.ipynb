{
 "cells": [
  {
   "cell_type": "markdown",
   "metadata": {},
   "source": [
    "# Recurrent Neural Networks\n",
    "\n",
    " A _Recurrent Neural Network (RNN)_ is a class of neural networks where the connection between nodes forms a directed graph along a sequence. This allows it to show temporal dynamic behavior for a time sequence. RNNs use their internal state (memory) to process sequences of inputs, this makes RNNs applicable to problems which deal with sequence information.\n",
    " \n",
    "Examples of sequences are:\n",
    "* Handwriting\n",
    "* Speach\n",
    "* Time Series Data (e.g., sales data)\n",
    "* Sentences\n",
    "* Audio\n",
    "* Car Trajectories\n",
    "* Music\n",
    " \n",
    "\n",
    "## Theory\n",
    "To understand the RNNs let's look at the structure of a neuron in a feed forward network and see the difference with the neuron structure in an RNN.\n",
    "\n",
    "### Normal Neuron in a Feed Forward Networks\n",
    "\n",
    "A normal neuron in a feed forward network looks like the following:\n",
    "\n",
    "<img src='images\\neuron.png'/>\n",
    "\n",
    "Therefore, a normal neuron in a feed forward network, takes an input or some inputs, aggregates them and produces the output using the activation funtion.\n",
    "\n",
    "### Recurrent Neuron\n",
    "\n",
    "Instead a recurrent neuron looks like the following:\n",
    "\n",
    "<img src='images\\rnn_neuron.png'/>\n",
    "\n",
    "Where it sends the outout back to itself. If we unroll this functionality through _time_, we will have a structure as follows:\n",
    "\n",
    "<img src='images\\time_rnn_neuron.png'/>\n",
    "\n",
    "where the output of a neuron at time $t-1$ will be the input of the neuron at time $t$. It should be noted that each neuron in this structure receives both the input from a previous time instance and the input from the current time instance.\n",
    "\n",
    "#### Memory Cells\n",
    "The neurons that are a function of inputs from previous time instances are known as _memory cells_.\n",
    "\n",
    "#### Layers of Recurrent Neurons\n",
    "What we have seen until now was one single recurrent neuron. We can also create entire layers of Recurrent Neurons. An example of an RNN layer with 3 neurons will look like this:\n",
    "\n",
    "<img src='images\\rnn_layer.png'/>\n",
    "\n",
    "where $x$ is the input which will pass through the neurons to create output $y$. Then output $y$ will be sent back as the input of the neurons. To have a better understanding of what happens in different time instances, we can enroll the entire layer through time as follows:\n",
    "\n",
    "<img src='images\\time_rnn_layer.png'/>\n",
    "\n",
    "Here the output from $t=0$ is passed together with the input in time $t+1$, and this continues through time. Since the output of time $t+n$ is a function of all previous time instances, it can be considered to have some form of memory as we are actually passing historical information to it.\n",
    "\n",
    "#### Flexibility of RNNs for Inputs and Outputs\n",
    "\n",
    "RNNs are flexible in their inputs and outputs, for both sequences and single vector values. Here are some examples:\n",
    "\n",
    "##### Sequence to Sequence\n",
    "\n",
    "We can pass a sequence input to a sequence output. An example is to consider a sequence of sales information over time as input, while we need this sequence to be shifted one step in the future as the output.\n",
    "\n",
    "<img src='images\\sequence_to_sequence.png'/>\n",
    "\n",
    "##### Sequence to Vector\n",
    "\n",
    "Another example is to pass in a sequence input and request the vector output. A usecase of using RNNs for this sort of inputs and outputs is the sentiment score, were we pass in a sequence of words, and we expect a vector indicating whether the sequence indicated a positive or a negative sentiment.\n",
    "\n",
    "<img src='images\\sequence_to_vector.png'/>\n",
    "\n",
    "##### Vector to Sequence\n",
    "\n",
    "Another case is to have a vector input and get a sequence output. In this case the rest of the inputs will be set to zero. Example of this case can be creating captions for photos.\n",
    "\n",
    "<img src='images\\vector_to_sequence.png'/>"
   ]
  },
  {
   "cell_type": "markdown",
   "metadata": {},
   "source": [
    "## Manual Creation of the RNNs\n",
    "\n",
    "Here we are going to create a Recurrent Neural Network Manually by the use of Tensorflow. Later we will explore the RNN API in Tensorflow.\n",
    "\n",
    "The example that will be shown is a 3 neuron RNN layer with Tensorflow shown below:\n",
    "\n",
    "<img src='images\\rnn_layer.png'/>\n",
    "\n",
    "As shown in the photo, we will need two set of weight here, one is $W_x$ that is related to the set of inputs, and the other is $W_y$ which is required for the output which comes back to the neuron.\n",
    "\n",
    "We will start by running the RNN for 2 batches of data, $t=0$ and $t=1$.\n",
    "\n",
    "<img src='images\\3_neuron_rnn.png'/>\n",
    "\n",
    "The main purpose is to focus on the input format of the data. The formatting of the input data is as follows:\n",
    "\n",
    "<img src='images\\input_format.png'/>\n",
    "\n",
    "Here words are shown for better understanding, however, for development we will use numerical data. We have two samples of data which are sequences of words (sentences) with 5 timestampts. Considering the example of having 5 batches (here called words_in_dataset), and batch size of 2, each batch will contain two samples. The data is feeded in based on the time stamp and not based on the batches."
   ]
  },
  {
   "cell_type": "code",
   "execution_count": 1,
   "metadata": {},
   "outputs": [],
   "source": [
    "# Importing required libraries\n",
    "import numpy as np\n",
    "import tensorflow as tf\n",
    "\n",
    "import matplotlib.pyplot as plt\n",
    "%matplotlib inline"
   ]
  },
  {
   "cell_type": "code",
   "execution_count": 2,
   "metadata": {},
   "outputs": [],
   "source": [
    "# Creating the constants\n",
    "\n",
    "# number of inputs for each example (inputs are only for two time stamps)\n",
    "num_inputs = 2\n",
    "\n",
    "# number of neurons\n",
    "num_neurons = 3"
   ]
  },
  {
   "cell_type": "code",
   "execution_count": 3,
   "metadata": {},
   "outputs": [],
   "source": [
    "# Creating the placeholders\n",
    "\n",
    "# We need a placeholder for each timestamp\n",
    "# input at t=0\n",
    "x0 = tf.placeholder(tf.float32, [None, num_inputs])\n",
    "# input at t=1\n",
    "x1 = tf.placeholder(tf.float32, [None, num_inputs])"
   ]
  },
  {
   "cell_type": "code",
   "execution_count": 4,
   "metadata": {},
   "outputs": [],
   "source": [
    "# Creating the variables\n",
    "\n",
    "# Weights of inputs\n",
    "Wx = tf.Variable(tf.random_normal(shape = [num_inputs, num_neurons]))\n",
    "\n",
    "# Weights of outputs \n",
    "Wy = tf.Variable(tf.random_normal(shape = [num_neurons, num_neurons]))\n",
    "\n",
    "# the bias\n",
    "b = tf.Variable(tf.zeros([1, num_neurons]))"
   ]
  },
  {
   "cell_type": "code",
   "execution_count": 6,
   "metadata": {},
   "outputs": [],
   "source": [
    "# Creating graphs (set of operations)\n",
    "\n",
    "# output at t=0 using hyperbolic tangent as the activation function\n",
    "y0 = tf.tanh(tf.matmul(x0, Wx) + b)\n",
    "\n",
    "# output at t=1, including the output from previous time step\n",
    "y1 = tf.tanh(tf.matmul(y0, Wy) + tf.matmul(x1, Wx) + b)"
   ]
  },
  {
   "cell_type": "code",
   "execution_count": 7,
   "metadata": {},
   "outputs": [],
   "source": [
    "# Initialize the variables\n",
    "init = tf.global_variables_initializer()"
   ]
  },
  {
   "cell_type": "code",
   "execution_count": 8,
   "metadata": {},
   "outputs": [],
   "source": [
    "# Create data\n",
    "\n",
    "# All the data at t=0\n",
    "x0_batch = np.array([ [0,1] , [2,3] , [4,5] ])\n",
    "\n",
    "# All data at t=1\n",
    "x1_batch = np.array([ [100,101] , [102,103] , [104,105] ])"
   ]
  },
  {
   "cell_type": "code",
   "execution_count": 10,
   "metadata": {},
   "outputs": [],
   "source": [
    "# Run the session\n",
    "with tf.Session() as sess:\n",
    "    \n",
    "    # Initialize the variables\n",
    "    sess.run(init)\n",
    "    \n",
    "    # Output values\n",
    "    y0_output_vals, y1_output_vals = sess.run([y0, y1], feed_dict = {x0: x0_batch, x1: x1_batch})"
   ]
  },
  {
   "cell_type": "code",
   "execution_count": 11,
   "metadata": {},
   "outputs": [
    {
     "data": {
      "text/plain": [
       "array([[ 0.620765  ,  0.26799986, -0.56366825],\n",
       "       [ 0.9999926 ,  0.9994794 , -0.9987327 ],\n",
       "       [ 1.        ,  0.99999976, -0.99999726]], dtype=float32)"
      ]
     },
     "execution_count": 11,
     "metadata": {},
     "output_type": "execute_result"
    }
   ],
   "source": [
    "# The results of output y0\n",
    "y0_output_vals"
   ]
  },
  {
   "cell_type": "code",
   "execution_count": 13,
   "metadata": {},
   "outputs": [
    {
     "data": {
      "text/plain": [
       "array([[ 1.,  1., -1.],\n",
       "       [ 1.,  1., -1.],\n",
       "       [ 1.,  1., -1.]], dtype=float32)"
      ]
     },
     "execution_count": 13,
     "metadata": {},
     "output_type": "execute_result"
    }
   ],
   "source": [
    "# The results of output y1\n",
    "y1_output_vals"
   ]
  },
  {
   "cell_type": "markdown",
   "metadata": {},
   "source": [
    "It should be considered that this manual approach doesn't scale for larger networks, and it was only shown for the sake of better understanding the RNNs."
   ]
  },
  {
   "cell_type": "markdown",
   "metadata": {},
   "source": [
    "## The Problem of Vanishing Gradients\n",
    "\n",
    "When it comes to analyzing the larger time series datasets in RNNs there are some challenges to be considered. One of the key issues is the problem of vanishing gradients.\n",
    "\n",
    "Recalling that backpropagation goes backwards from the output to the input layer, propagating the error gradient. For deeper networds, issues can arise from vanishing and exploding gradients during backpropagation. \n",
    "\n",
    "As you go back to the \"lower\" layers (closer to the inputs), gradients often get smaller, eventually causing weights to never change at these lower levels.\n",
    "\n",
    "The opposite can also occur, gradients explode on the way back, causing issues for activation functions who use derivatives that has taken a larger values.\n",
    "\n",
    "### Why Does this Problem Happen?\n",
    "\n",
    "This problem happens in relation to the activation function choice. The traditional activation functions such as sigmoid, that is shown below, have a curvature that for very small values and for very large values have a slope (gradient) that gets close to zero.\n",
    "\n",
    "As the backpropagation computes the gradients using the chain rule, for calculating the gradients of lower layers, small gradients of upper layers are multiplied, and this causes the gradients to get smaller exponentially with relation to the number of layers in the network. As the concequence, the front layers get trained very slowly because of the smaller and smaller gradients in every iteration.\n",
    "\n",
    "<img src='images\\vanishing_gradient_act1.png'/>\n",
    "\n",
    "### What Are the Solutions?\n",
    "\n",
    "#### Using Different Activation Functions\n",
    "\n",
    "One solution is to use a different activation function. _Rectified Linear Unit (ReLu)_ is an activation function that does not saturate the positive values. However, the issue with this activation function is that for negative numbers it is always going to result in zero.\n",
    "\n",
    "\n",
    "In the following you can view ReLu:\n",
    "\n",
    "<img src='images\\ReLU.png'/>\n",
    "\n",
    "To resolve the issue of ReLu with negetive numbers, there is a modified version of ReLu that is called _Leaky ReLu_:\n",
    "\n",
    "<img src='images\\leaky_ReLu.png'/>\n",
    "\n",
    "As shown above, Leaky ReLu has a negative slope for negative numbers.\n",
    "\n",
    "There are other activation functions such as _Exponential Linear Unit (ELU)_ which also attempts to solve the problems related to the vanishing gradients:\n",
    "\n",
    "<img src='images\\elu.png'/>\n",
    "\n",
    "#### Using Batch Normalization\n",
    "Another solution is to use batch normalization, where the model will normalize each batch using the batch mean and standard deviation.\n",
    "\n",
    "#### Gradient Clipping\n",
    "In Gradient Clipping, the gradients are cut off before reaching a predetermined limit (e.g., cut off gradients to be between -1 and 1).\n",
    "\n",
    "\n",
    "### Vanishing Gradients in RNNs\n",
    "\n",
    "RNNs for time series present their own challenges with gradients. To resolve these issues there are specialized neuron units.\n",
    "\n",
    "The solutions that are presented until now, also apply to RNNs. However, because of the length of time series input, these could slow down the training.\n",
    "\n",
    "A possible solution would be to shorten the time steps used for prediction. But this makes the model worse at predicting longer trends.\n",
    "\n",
    "Another issue RNNs face is that after a while the networks will begin to forget the first inputs, as information is lost at each step going through the RNN. Hence we need some sorf of \"long-term memory\" for the RNN.\n",
    "\n",
    "#### Long Short-Term Memory (LSTM) Cells\n",
    "\n",
    "LSTM cells was created in 1997 to help address the mentioned issues in RNNs.\n",
    "\n",
    "A typical RNN has the following structure, where output of previous time step ($h_{t-1}$) is feeded at the next time step $t$ together with its input:\n",
    "<img src='images\\typical_rnn.png'/>\n",
    "\n",
    "In the following you can see the entire LSTM cell:\n",
    "<img src='images\\lstm_cell.png'/>\n",
    "\n",
    "Here, we have 3 inputs to the cell. $x_t$ is the actual input, $h_{t-1}$ is the output of the previous time step, and $c_{t-1}$ is the _cell state_ from the previous time step. The outputs of the LSTM cell are the $h_{t}$ (the current calculated output) and the $c_{t} that is the current cell state$.\n",
    "\n",
    "Let's see a step by step explanation of what happens in an LSTM cell:\n",
    "\n",
    "* 1st step: __Forget Gate Layer__($f_t$), where we decide what information we are going to forget or discard from the cell state. Here, we pass in the $x_t$ and $h_{t-1}$, and after a linear transformation with weights $W_f$ we apply the sigmoid function that produces $\\{0,1\\}$ as a result. $0$ indicates that we want to discard the information and $1$ indicates that we want to keep the information.\n",
    "\n",
    "<img src='images\\lstm_step1.png'/>\n",
    "\n",
    "* 2nd step: Here we want to decide which information to store in the cell state $C_t$. In this case, the first part is a sigmoid layer (__Input Gate Layer__ $i_t$) and the second part is a __Hyperbolic Tangent (tanh) Layer__ ($\\tilde{C}_t$).\n",
    "\n",
    "    * The Input Gate Layer, gets the $x_t$ and $h_{t-1}$ as inputs, applies a linear transformation using weights $W_i$ and passes the results to a sigmoid function that output values between $0$ and $1$.\n",
    "    * The tanh layer does the linear transformation on $x_t$ and $h_{t-1}$ using weights $W_c$, and then applies a tanh function. This process will create a vector of _new candidate values_, these are the candidate values that could be added to the state.\n",
    "    \n",
    "<img src='images\\lstm_step2.png'/>\n",
    "\n",
    "* 3rd step: Here we want to combine the $f_t$ (old information we want to forget), $i_t$ and $\\tilde{C}_t$ (new information we want to store) to update the old cell state $C_{t-1}$ and set the new cell state $C_t$.\n",
    "\n",
    "<img src='images\\lstm_step3.png'/>\n",
    "\n",
    "* Final step: in this step we want to calculate the output $h_t$. This output is going to be based on the cell state, however, it is a filtered version. To do this (to calculate $o_t$) we do a linear transformation of $x_t$ and $h_{t-1}$ based on weights $W_0$ and pass that in a sigmoid function. To do the filtering, we apply a tanh function to the cell states $C_t$ that resuls in values between $-1$ and $1$, and multiply it with the $o_t$. In this way, we only output the parts that we decide to.\n",
    "\n",
    "<img src='images\\lstm_step4.png'/>\n",
    "\n",
    "#### An LSTM Cell with \"Peepholes\"\n",
    "\n",
    "There is another variance on the LSTM cell called the _peephole_ variance. This variance of LSTM adds peepholes to all the gates. In this way, it allows, $f_t$, $i_t$ and $o_t$ to be able to see the previous cell state.\n",
    "\n",
    "<img src='images\\lstm_peepholes.png'/>\n",
    "\n",
    "#### Gated Recurrent Unit (GRU)\n",
    "\n",
    "Another variation of the LSTM cell is the _Gated Recurrent Unit (GRU)_. This approach has been proposed recently, around 2014. This approach simplifies LSTMs by combining the forget and input gates into a single gate that is called the __Update Gate__. It also merges the cell state and the hidden state (the output).\n",
    "\n",
    "This approach simplifies the LSTM model and because of that is growing very popular over the past few years.\n",
    "\n",
    "<img src='images\\lstm_peepholes.png'/>\n",
    "\n",
    "There are other variations that have been developed over time, e.g., depth gated recurrent neural networks that has been introduced in 2015.\n"
   ]
  },
  {
   "cell_type": "markdown",
   "metadata": {},
   "source": [
    "## TensorFlow's API for RNNs\n",
    "\n",
    "TensorFlow comes with these neuron models built into a nice API. Here we are going to see the built-in tf.nn function API to solve sequence problems!\n",
    "\n",
    "As an example we will use time series as $sin(x)$, where we feed a part of $sin(x)$ and we expect the RNN to shift the values one step in time and predict the next value in the serie.\n",
    "\n",
    "\n",
    "* We'll first create a simple class to generate $sin(x)$ and also grab random batches of $sin(x)$. \n",
    "\n",
    "* Then the trained model will be given a time series and attemot to predict a time series shifted one time step ahead.\n",
    "\n",
    "Later, we will use the same model to generate much longer time series given seed series.\n"
   ]
  },
  {
   "cell_type": "code",
   "execution_count": 14,
   "metadata": {},
   "outputs": [],
   "source": [
    "import numpy as np\n",
    "import tensorflow as tf\n",
    "import matplotlib.pyplot as plt\n",
    "%matplotlib inline"
   ]
  },
  {
   "cell_type": "code",
   "execution_count": 15,
   "metadata": {},
   "outputs": [],
   "source": [
    "# The class to create data and sends back the batches \n",
    "class TimeSeriesData():\n",
    "    \n",
    "    def __init__(self, num_points, xmin, xmax):\n",
    "        \n",
    "        self.xmin = xmin\n",
    "        self.xmax = xmax\n",
    "        self.num_points = num_points\n",
    "        \n",
    "        # The resolution\n",
    "        self.resolution = (xmax - xmin)/num_points\n",
    "        \n",
    "        # Creating linearly spaced numbers\n",
    "        self.x_data = np.linspace(xmin, xmax, num_points)\n",
    "        \n",
    "        # The sin of x_data\n",
    "        self.y_true = np.sin(self.x_data)\n",
    "        \n",
    "    # To compare the data that we don't have    \n",
    "    def ret_true(self, x_series):\n",
    "        return np.sin(x_series)\n",
    "    \n",
    "    # To generate batches of data\n",
    "    def next_batch(self, batch_size, steps, return_batch_ts = False):\n",
    "        \n",
    "        # Grab a random starting point for each batch of data\n",
    "        random_start = np.random.rand(batch_size, 1) # random values in a given shape\n",
    "        \n",
    "        # Convert to be on time series\n",
    "        ts_start = random_start * (self.xmax - self.xmin - (steps * self.resolution))\n",
    "        \n",
    "        # Create batch time series on the x axis\n",
    "        batch_ts = ts_start + np.arange(0.0, steps+1) * self.resolution\n",
    "        \n",
    "        # Create the Y data for the time series x axis from previous step\n",
    "        y_batch = np.sin(batch_ts)\n",
    "        \n",
    "        # Formatting for RNN\n",
    "        if return_batch_ts:\n",
    "            # if we need the x axis batch\n",
    "            return y_batch[:, :-1].reshape(-1, steps, 1), y_batch[:,1:].reshape(-1, steps, 1), batch_ts\n",
    "        else:\n",
    "            # Return the batch and the shifted batch by one step in future\n",
    "            return y_batch[:, :-1].reshape(-1, steps, 1), y_batch[:,1:].reshape(-1, steps, 1)"
   ]
  },
  {
   "cell_type": "code",
   "execution_count": 16,
   "metadata": {},
   "outputs": [],
   "source": [
    "# Lets create 250 points between 0 and 10\n",
    "ts_data = TimeSeriesData(250, 0, 10)"
   ]
  },
  {
   "cell_type": "code",
   "execution_count": 17,
   "metadata": {},
   "outputs": [
    {
     "data": {
      "text/plain": [
       "[<matplotlib.lines.Line2D at 0x213e455f048>]"
      ]
     },
     "execution_count": 17,
     "metadata": {},
     "output_type": "execute_result"
    },
    {
     "data": {
      "image/png": "[encoded data removed]",
      "text/plain": [
       "<Figure size 432x288 with 1 Axes>"
      ]
     },
     "metadata": {
      "needs_background": "light"
     },
     "output_type": "display_data"
    }
   ],
   "source": [
    "# Plotting the x_data and y_data which will result in the sin function\n",
    "plt.plot(ts_data.x_data, ts_data.y_true)"
   ]
  },
  {
   "cell_type": "code",
   "execution_count": 21,
   "metadata": {},
   "outputs": [
    {
     "data": {
      "text/plain": [
       "[<matplotlib.lines.Line2D at 0x213e5214470>]"
      ]
     },
     "execution_count": 21,
     "metadata": {},
     "output_type": "execute_result"
    },
    {
     "data": {
      "image/png": "[encoded data removed]",
      "text/plain": [
       "<Figure size 432x288 with 1 Axes>"
      ]
     },
     "metadata": {
      "needs_background": "light"
     },
     "output_type": "display_data"
    }
   ],
   "source": [
    "# defining number of steps in batch\n",
    "num_time_steps = 30\n",
    "\n",
    "# Creating one batch with 30 time steps\n",
    "y1, y2, ts = ts_data.next_batch(1, num_time_steps, True)\n",
    "\n",
    "# We need to flatten the batch in order to plot it\n",
    "# Notice that the y1 has all the points in the series except the last one\n",
    "# and y2 is shifted over 1 time step, so it does not consider the first point\n",
    "plt.plot(ts.flatten()[1:], y2.flatten(), '*')"
   ]
  },
  {
   "cell_type": "code",
   "execution_count": 22,
   "metadata": {},
   "outputs": [
    {
     "data": {
      "image/png": "[encoded data removed]",
      "text/plain": [
       "<Figure size 432x288 with 1 Axes>"
      ]
     },
     "metadata": {
      "needs_background": "light"
     },
     "output_type": "display_data"
    }
   ],
   "source": [
    "# Visualizing the created batch on top of the data\n",
    "plt.plot(ts_data.x_data, ts_data.y_true, label = 'Sin(t)')\n",
    "plt.plot(ts.flatten()[1:], y2.flatten(), '*', label = 'Single Training Instance')\n",
    "\n",
    "plt.legend()\n",
    "plt.tight_layout()"
   ]
  },
  {
   "cell_type": "code",
   "execution_count": 23,
   "metadata": {},
   "outputs": [
    {
     "data": {
      "text/plain": [
       "array([5.        , 5.04133333, 5.08266667, 5.124     , 5.16533333,\n",
       "       5.20666667, 5.248     , 5.28933333, 5.33066667, 5.372     ,\n",
       "       5.41333333, 5.45466667, 5.496     , 5.53733333, 5.57866667,\n",
       "       5.62      , 5.66133333, 5.70266667, 5.744     , 5.78533333,\n",
       "       5.82666667, 5.868     , 5.90933333, 5.95066667, 5.992     ,\n",
       "       6.03333333, 6.07466667, 6.116     , 6.15733333, 6.19866667,\n",
       "       6.24      ])"
      ]
     },
     "execution_count": 23,
     "metadata": {},
     "output_type": "execute_result"
    }
   ],
   "source": [
    "# Training data\n",
    "train_inst = np.linspace(5, 5 + ts_data.resolution * (num_time_steps +1) , num_time_steps +1)\n",
    "train_inst"
   ]
  },
  {
   "cell_type": "code",
   "execution_count": 25,
   "metadata": {},
   "outputs": [
    {
     "data": {
      "text/plain": [
       "<matplotlib.legend.Legend at 0x213e815acc0>"
      ]
     },
     "execution_count": 25,
     "metadata": {},
     "output_type": "execute_result"
    },
    {
     "data": {
      "image/png": "[encoded data removed]",
      "text/plain": [
       "<Figure size 432x288 with 1 Axes>"
      ]
     },
     "metadata": {
      "needs_background": "light"
     },
     "output_type": "display_data"
    }
   ],
   "source": [
    "plt.title('A Training Instance')\n",
    "\n",
    "# PLotting the training data (without the last instance)\n",
    "plt.plot(train_inst[:-1], ts_data.ret_true(train_inst[:-1]), 'bo', markersize = 15, alpha = 0.5, label = 'INSTANCE')\n",
    "\n",
    "# Plotting the target values at one time step in the future (without the first instance)\n",
    "plt.plot(train_inst[1:], ts_data.ret_true(train_inst[1:]), 'ko', markersize = 7, label = 'TARGET')\n",
    "\n",
    "plt.legend()"
   ]
  },
  {
   "cell_type": "markdown",
   "metadata": {},
   "source": [
    "What we want to achieve it to predict the black points shown above with our model, given the blue dots."
   ]
  },
  {
   "cell_type": "code",
   "execution_count": null,
   "metadata": {},
   "outputs": [],
   "source": []
  }
 ],
 "metadata": {
  "kernelspec": {
   "display_name": "Python 3",
   "language": "python",
   "name": "python3"
  },
  "language_info": {
   "codemirror_mode": {
    "name": "ipython",
    "version": 3
   },
   "file_extension": ".py",
   "mimetype": "text/x-python",
   "name": "python",
   "nbconvert_exporter": "python",
   "pygments_lexer": "ipython3",
   "version": "3.6.8"
  }
 },
 "nbformat": 4,
 "nbformat_minor": 2
}
